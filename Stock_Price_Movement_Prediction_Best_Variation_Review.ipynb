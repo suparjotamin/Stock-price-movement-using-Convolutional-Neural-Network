{
  "nbformat": 4,
  "nbformat_minor": 0,
  "metadata": {
    "colab": {
      "name": "Stock Price Movement Prediction - Best Variation Review.ipynb",
      "provenance": []
    },
    "kernelspec": {
      "name": "python3",
      "display_name": "Python 3"
    }
  },
  "cells": [
    {
      "cell_type": "markdown",
      "metadata": {
        "id": "QpBKp6p8pzLj",
        "colab_type": "text"
      },
      "source": [
        "# Import Packages"
      ]
    },
    {
      "cell_type": "code",
      "metadata": {
        "id": "N-7y2CA-pysc",
        "colab_type": "code",
        "colab": {}
      },
      "source": [
        "import pandas as pd"
      ],
      "execution_count": 0,
      "outputs": []
    },
    {
      "cell_type": "markdown",
      "metadata": {
        "id": "sEpNmgvTpurr",
        "colab_type": "text"
      },
      "source": [
        "# Core"
      ]
    },
    {
      "cell_type": "markdown",
      "metadata": {
        "id": "qlqdC_s1p6yT",
        "colab_type": "text"
      },
      "source": [
        "In this part, we will review the result from the notebook \" Stock Price Movement Prediction - Best variation \". after we have the result, we will check the consistency of the variation. is the variation change overtime, consitent, or dominated by a variation. "
      ]
    },
    {
      "cell_type": "code",
      "metadata": {
        "id": "rIy-J7Vupe2t",
        "colab_type": "code",
        "colab": {}
      },
      "source": [
        "# determine the Stock we want\n",
        "stock = 'HMSP.JK'\n",
        "\n",
        "# dummy Dataframe to story the result\n",
        "hoho = pd.DataFrame()\n",
        "# iterate the Timestep\n",
        "for l in [20,40,60]:\n",
        "    # iterate the Timegap\n",
        "    for k in [1,7,14]:\n",
        "        # iterate the Model\n",
        "        for j in ['model 1','model 2','model 3','model 4']:\n",
        "            \n",
        "            hihi = pd.DataFrame()\n",
        "            hehe = pd.DataFrame()\n",
        "            for i in [2009,2010,2011,2012,2013,2014,2015]:\n",
        "                try:\n",
        "                    # directory might different\n",
        "                    haha = pd.read_csv('Hasil/Hasil_potong_potong/timestep{}_timegap{}_{}_{}_periode{}{}.csv'.format(l,k,j,stock,str(i),str(i+4)))[['accuracy','val_accuracy']].tail(10).mean()\n",
        "                    hehe = pd.concat([hehe,haha], axis = 1)\n",
        "                except:\n",
        "                    print('data {} {} {} {} is not availale'.format(l,j,k,i))\n",
        "            hihi = pd.concat([hihi,hehe], axis = 1)\n",
        "            hihi.columns = ['2009-2013','2010-2014','2011-2015','2012-2016','2013-2017','2014-2018','2015-2019']\n",
        "            hihi['timestep'] = l\n",
        "            hihi['timegap'] = k\n",
        "            hihi['model'] =j\n",
        "            hihi = hihi.reset_index()\n",
        "\n",
        "            hoho = pd.concat([hoho,hihi], axis = 0)\n",
        "hoho = hoho.reset_index()\n",
        "hoho = hoho[['index','timestep','timegap','model','2009-2013','2010-2014','2011-2015','2012-2016','2013-2017','2014-2018','2015-2019']]"
      ],
      "execution_count": 0,
      "outputs": []
    },
    {
      "cell_type": "code",
      "metadata": {
        "id": "F1Yd4yA8przT",
        "colab_type": "code",
        "colab": {
          "base_uri": "https://localhost:8080/",
          "height": 278
        },
        "outputId": "85667e5c-e533-4165-c612-56e3cff9221b"
      },
      "source": [
        "recap = []\n",
        "print('--------------{}-------------'.format(stock))\n",
        "for i in ['2009-2013','2010-2014','2011-2015','2012-2016','2013-2017','2014-2018','2015-2019']:\n",
        "    hoho_val = hoho[hoho['index'] == 'val_accuracy' ]\n",
        "    recap.append([i] + hoho_val[hoho_val[i]==hoho_val[i].max()][['timestep','timegap','model',i]].values[0].tolist())\n",
        "hasil = pd.DataFrame(recap)\n",
        "hasil.columns = ['tahun','timestep','timegap','model','accuracy']\n",
        "hasil"
      ],
      "execution_count": 5,
      "outputs": [
        {
          "output_type": "stream",
          "text": [
            "--------------HMSP.JK-------------\n"
          ],
          "name": "stdout"
        },
        {
          "output_type": "execute_result",
          "data": {
            "text/html": [
              "<div>\n",
              "<style scoped>\n",
              "    .dataframe tbody tr th:only-of-type {\n",
              "        vertical-align: middle;\n",
              "    }\n",
              "\n",
              "    .dataframe tbody tr th {\n",
              "        vertical-align: top;\n",
              "    }\n",
              "\n",
              "    .dataframe thead th {\n",
              "        text-align: right;\n",
              "    }\n",
              "</style>\n",
              "<table border=\"1\" class=\"dataframe\">\n",
              "  <thead>\n",
              "    <tr style=\"text-align: right;\">\n",
              "      <th></th>\n",
              "      <th>tahun</th>\n",
              "      <th>timestep</th>\n",
              "      <th>timegap</th>\n",
              "      <th>model</th>\n",
              "      <th>accuracy</th>\n",
              "    </tr>\n",
              "  </thead>\n",
              "  <tbody>\n",
              "    <tr>\n",
              "      <th>0</th>\n",
              "      <td>2009-2013</td>\n",
              "      <td>40</td>\n",
              "      <td>14</td>\n",
              "      <td>model 3</td>\n",
              "      <td>0.833607</td>\n",
              "    </tr>\n",
              "    <tr>\n",
              "      <th>1</th>\n",
              "      <td>2010-2014</td>\n",
              "      <td>60</td>\n",
              "      <td>14</td>\n",
              "      <td>model 3</td>\n",
              "      <td>0.724590</td>\n",
              "    </tr>\n",
              "    <tr>\n",
              "      <th>2</th>\n",
              "      <td>2011-2015</td>\n",
              "      <td>60</td>\n",
              "      <td>14</td>\n",
              "      <td>model 3</td>\n",
              "      <td>0.811837</td>\n",
              "    </tr>\n",
              "    <tr>\n",
              "      <th>3</th>\n",
              "      <td>2012-2016</td>\n",
              "      <td>60</td>\n",
              "      <td>14</td>\n",
              "      <td>model 3</td>\n",
              "      <td>0.666667</td>\n",
              "    </tr>\n",
              "    <tr>\n",
              "      <th>4</th>\n",
              "      <td>2013-2017</td>\n",
              "      <td>60</td>\n",
              "      <td>14</td>\n",
              "      <td>model 3</td>\n",
              "      <td>0.693701</td>\n",
              "    </tr>\n",
              "    <tr>\n",
              "      <th>5</th>\n",
              "      <td>2014-2018</td>\n",
              "      <td>60</td>\n",
              "      <td>14</td>\n",
              "      <td>model 3</td>\n",
              "      <td>0.776245</td>\n",
              "    </tr>\n",
              "    <tr>\n",
              "      <th>6</th>\n",
              "      <td>2015-2019</td>\n",
              "      <td>60</td>\n",
              "      <td>14</td>\n",
              "      <td>model 2</td>\n",
              "      <td>0.683721</td>\n",
              "    </tr>\n",
              "  </tbody>\n",
              "</table>\n",
              "</div>"
            ],
            "text/plain": [
              "       tahun  timestep  timegap    model  accuracy\n",
              "0  2009-2013        40       14  model 3  0.833607\n",
              "1  2010-2014        60       14  model 3  0.724590\n",
              "2  2011-2015        60       14  model 3  0.811837\n",
              "3  2012-2016        60       14  model 3  0.666667\n",
              "4  2013-2017        60       14  model 3  0.693701\n",
              "5  2014-2018        60       14  model 3  0.776245\n",
              "6  2015-2019        60       14  model 2  0.683721"
            ]
          },
          "metadata": {
            "tags": []
          },
          "execution_count": 5
        }
      ]
    }
  ]
}