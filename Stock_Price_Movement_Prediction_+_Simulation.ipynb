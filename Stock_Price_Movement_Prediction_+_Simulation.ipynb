{
  "nbformat": 4,
  "nbformat_minor": 0,
  "metadata": {
    "colab": {
      "name": "Stock Price Movement Prediction + Simulation.ipynb",
      "provenance": []
    },
    "kernelspec": {
      "name": "python3",
      "display_name": "Python 3"
    }
  },
  "cells": [
    {
      "cell_type": "markdown",
      "metadata": {
        "id": "mPmatC4kjrXI",
        "colab_type": "text"
      },
      "source": [
        "# Package Import"
      ]
    },
    {
      "cell_type": "code",
      "metadata": {
        "id": "TXoz6zf_joqz",
        "colab_type": "code",
        "colab": {}
      },
      "source": [
        "from IPython.display import clear_output\n",
        "!pip install yfinance\n",
        "!pip install mpl_finance\n",
        "clear_output()"
      ],
      "execution_count": 0,
      "outputs": []
    },
    {
      "cell_type": "code",
      "metadata": {
        "id": "yjBGWPwijpx7",
        "colab_type": "code",
        "colab": {
          "base_uri": "https://localhost:8080/",
          "height": 35
        },
        "outputId": "f9e4b5af-5306-4fe4-98d4-9460c2e838fc"
      },
      "source": [
        "import pandas as pd\n",
        "import numpy as np\n",
        "from datetime import date\n",
        "import yfinance as yf\n",
        "from mpl_finance import candlestick2_ochl\n",
        "import matplotlib.pyplot as plt\n",
        "\n",
        "from keras.models import load_model, save_model\n",
        "\n",
        "import warnings\n",
        "warnings.filterwarnings(\"ignore\")\n",
        "\n",
        "import keras\n",
        "from keras.layers import Input, Dense, Conv2D, MaxPooling2D, AveragePooling2D, ZeroPadding2D, Flatten, Activation, add\n",
        "from keras.layers import Dropout, Flatten, LeakyReLU\n",
        "from keras.layers.normalization import BatchNormalization\n",
        "from keras.models import Model, Sequential\n",
        "from keras import initializers\n",
        "from keras.engine import Layer, InputSpec\n",
        "from keras import backend as K\n",
        "from keras.utils import np_utils\n",
        "from keras.optimizers import Adam, rmsprop"
      ],
      "execution_count": 4,
      "outputs": [
        {
          "output_type": "stream",
          "text": [
            "Using TensorFlow backend.\n"
          ],
          "name": "stderr"
        }
      ]
    },
    {
      "cell_type": "markdown",
      "metadata": {
        "id": "qZj1bHdjjv0z",
        "colab_type": "text"
      },
      "source": [
        "# Core"
      ]
    },
    {
      "cell_type": "markdown",
      "metadata": {
        "id": "y5MUDB4zkeks",
        "colab_type": "text"
      },
      "source": [
        "in this part, we will us the best model obtained from \"Stock Price Movement Prediction - Best Variation Review\". Then, use the model to do a simulation. The simualtion consist of :<br>\n",
        "1. **Predict The Movement**<br>\n",
        "firstly, we predict the movement or the result of the convolutional neural network by using the best variation ( model 3, timestep 60, and timegap 14). \n",
        "2. **Trading Simulation**<br>\n",
        "Secondly, we will simulate the trading of stock with the target to get the most profit. This step may variate and can be optimized later. Because of the Timestep we used is 14, it means we will predict the 14 later day movement relative to the latest day. we will use the deposit technique to resolve the timestep problem."
      ]
    },
    {
      "cell_type": "code",
      "metadata": {
        "id": "bjFuYFdgjvJc",
        "colab_type": "code",
        "colab": {
          "base_uri": "https://localhost:8080/",
          "height": 35
        },
        "outputId": "23ed3a3a-fe16-49fd-fce9-ea4387e37b1b"
      },
      "source": [
        "# Firslt, We determine the stock\n",
        "stock = 'BBCA.JK'\n",
        "# the year of simulation\n",
        "year_simulation = 2020\n",
        "# determine the timestep and timegap\n",
        "timestep = 60\n",
        "timegap = 14\n",
        "\n",
        "# load the data\n",
        "data = yf.download(stock,'2000-01-01','2020-12-31')\n",
        "data = data.reset_index()\n",
        "data['Year'] = [data.loc[i,'Date'].year for i in range(data.shape[0])]\n"
      ],
      "execution_count": 5,
      "outputs": [
        {
          "output_type": "stream",
          "text": [
            "\r[*********************100%***********************]  1 of 1 completed\n"
          ],
          "name": "stdout"
        }
      ]
    },
    {
      "cell_type": "code",
      "metadata": {
        "id": "mhL1_ADAjzo7",
        "colab_type": "code",
        "colab": {}
      },
      "source": [
        "# we will take a little data from the late previous year to simulate in the beginning of the chosen year.(+ 60 day)\n",
        "year = [year_simulation-1,year_simulation]\n",
        "\n",
        "train = data[[data.loc[j,'Year'] in year for j in range(data.shape[0])]]\n",
        "train = train.reset_index().drop('index',axis = 1)\n",
        "first_day_of_simulation_index = train[train['Year']==year_simulation].index[0]\n",
        "pure_train = train[first_day_of_simulation_index-timestep:]\n",
        "pure_train = pure_train.reset_index().drop('index', axis = 1)"
      ],
      "execution_count": 0,
      "outputs": []
    },
    {
      "cell_type": "code",
      "metadata": {
        "id": "p6IlBbXqj5CE",
        "colab_type": "code",
        "colab": {}
      },
      "source": [
        "# use dark background to make the background value into 0 after we change the candlestick image into pixel RGB representation\n",
        "plt.style.use('dark_background')\n",
        "train_temp_x = []\n",
        "train_temp_y = []\n",
        "\n",
        "# use the same code as the previous notebook to convert tabular data into RGB representation \n",
        "for k in range(0,train.shape[0]-timestep):\n",
        "    c = pure_train.loc[k:k + int(timestep) -1, :]\n",
        "    if len(c) == int(timestep):\n",
        "        my_dpi = 96\n",
        "        fig = plt.figure(figsize=(100 / my_dpi,\n",
        "                                    100 / my_dpi), dpi=my_dpi)\n",
        "        ax = fig.add_subplot(1, 1, 1)\n",
        "        candlestick2_ochl(ax, c['Open'], c['Close'], c['High'],\n",
        "                            c['Low'], width=0.85,\n",
        "                            colorup='#77d879', colordown='#db3f3f', alpha = 1)\n",
        "        ax.axis('off')\n",
        "        fig.canvas.draw()\n",
        "        temp_temp_x = np.fromstring(fig.canvas.tostring_rgb(), dtype=np.uint8, sep='')\n",
        "        plt.close();\n",
        "        clear_output()\n",
        "        temp_temp_x = (temp_temp_x.reshape(fig.canvas.get_width_height()[::-1] + (3,))/255).tolist()\n",
        "        train_temp_x.append(temp_temp_x)"
      ],
      "execution_count": 0,
      "outputs": []
    },
    {
      "cell_type": "code",
      "metadata": {
        "id": "9raNdFTvj6ZE",
        "colab_type": "code",
        "colab": {}
      },
      "source": [
        "# the input is now ready\n",
        "ex = np.array(train_temp_x)\n",
        "\n",
        "# load the model which is saved\n",
        "model_simulation = load_model('{}_model3_timestep60_timegap14.hdf5'.format(stock))\n",
        "pred = model_simulation.predict(ex)\n",
        "pred = pred.reshape(pred.shape[0])"
      ],
      "execution_count": 0,
      "outputs": []
    },
    {
      "cell_type": "code",
      "metadata": {
        "id": "4Gby8hOLj7k0",
        "colab_type": "code",
        "colab": {}
      },
      "source": [
        "# create a table with a new column that represent the prediction \n",
        "pure_train['pred'] = [np.nan]*(timestep-1)+pred.tolist()\n",
        "simulation_data = pure_train.dropna().reset_index().drop('index', axis = True)\n",
        "simulation_data['pred'] = np.round(simulation_data['pred'])"
      ],
      "execution_count": 0,
      "outputs": []
    },
    {
      "cell_type": "code",
      "metadata": {
        "id": "T6r5awbKj-30",
        "colab_type": "code",
        "colab": {}
      },
      "source": [
        "# determine the initial money\n",
        "initial_money = 100000000\n",
        "# create a list of asset movement \n",
        "asset = [initial_money]\n",
        "# initiate the real money, number of stock, and dictionary\n",
        "# the dictionary will be used to store the date we will pull our stock (sell)\n",
        "real_money = initial_money\n",
        "n_stock = 0\n",
        "dicts = {}\n",
        "\n",
        "# iterate daily\n",
        "for i in range(simulation_data['pred'].shape[0]):\n",
        "    try:\n",
        "        real_money = real_money + dicts[i]*simulation_data.loc[i,'Close'] \n",
        "        n_stock = n_stock - dicts[i]\n",
        "    except:\n",
        "        pass\n",
        "\n",
        "    if simulation_data.loc[i,'pred']==1:\n",
        "        # we will buy constantly 10000000\n",
        "        if real_money >=10000000:\n",
        "            n_stock = n_stock + 10000000//simulation_data.loc[i,'Close']\n",
        "            dicts[i+14] = 10000000//simulation_data.loc[i,'Close']\n",
        "            real_money = real_money - (10000000//simulation_data.loc[i,'Close'])*simulation_data.loc[i,'Close']\n",
        "        \n",
        "        # if the money is less than 10000000 we will use the rest of the money then\n",
        "        else:\n",
        "            n_stock = n_stock + real_money//simulation_data.loc[i,'Close']\n",
        "            dicts[i+14] = real_money//simulation_data.loc[i,'Close']\n",
        "            real_money = real_money - (real_money//simulation_data.loc[i,'Close'])*simulation_data.loc[i,'Close']\n",
        "            \n",
        "    # appent the asset movement for every iteration\n",
        "    asset.append(real_money + n_stock*simulation_data.loc[i,'Close'])"
      ],
      "execution_count": 0,
      "outputs": []
    },
    {
      "cell_type": "code",
      "metadata": {
        "id": "9rBrZz4ikClb",
        "colab_type": "code",
        "colab": {}
      },
      "source": [
        "# Asset movement by investing, as comparison\n",
        "asset_invest = [(initial_money//simulation_data.loc[0,'Close'])*simulation_data.loc[i,'Close'] + (initial_money%simulation_data.loc[0,'Close']) for i in range(simulation_data.shape[0])]"
      ],
      "execution_count": 0,
      "outputs": []
    },
    {
      "cell_type": "code",
      "metadata": {
        "id": "hqNPkazmkE37",
        "colab_type": "code",
        "colab": {
          "base_uri": "https://localhost:8080/",
          "height": 367
        },
        "outputId": "127c6348-585e-4770-d213-5ad080ffeacf"
      },
      "source": [
        "# create the table for the investment asset and asset from simulation using model\n",
        "hasil = pd.DataFrame([asset,asset_invest]).T\n",
        "hasil.columns = ['Model', 'Investasi']\n",
        "\n",
        "print(stock)\n",
        "from pylab import rcParams\n",
        "rcParams['figure.figsize'] = 7, 5\n",
        "plt.style.use('dark_background')\n",
        "hasil.plot(kind = 'line')"
      ],
      "execution_count": 13,
      "outputs": [
        {
          "output_type": "stream",
          "text": [
            "BBCA.JK\n"
          ],
          "name": "stdout"
        },
        {
          "output_type": "execute_result",
          "data": {
            "text/plain": [
              "<matplotlib.axes._subplots.AxesSubplot at 0x7f9854828fd0>"
            ]
          },
          "metadata": {
            "tags": []
          },
          "execution_count": 13
        },
        {
          "output_type": "display_data",
          "data": {
            "image/png": "[encoded data removed]",
            "text/plain": [
              "<Figure size 504x360 with 1 Axes>"
            ]
          },
          "metadata": {
            "tags": []
          }
        }
      ]
    }
  ]
}